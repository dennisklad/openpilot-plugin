{
 "cells": [
  {
   "cell_type": "code",
   "execution_count": 1,
   "id": "95455d64-7941-470c-a957-d20b881861f0",
   "metadata": {},
   "outputs": [
    {
     "name": "stderr",
     "output_type": "stream",
     "text": [
      "kj/filesystem-disk-unix.c++:1703: warning: PWD environment variable doesn't match current directory; pwd = /home/n\n"
     ]
    }
   ],
   "source": [
    "import cereal.messaging as messaging"
   ]
  },
  {
   "cell_type": "code",
   "execution_count": 2,
   "id": "eb83f537-b31e-4379-8b96-a6b688c72ac5",
   "metadata": {},
   "outputs": [
    {
     "data": {
      "text/plain": [
       "{'gyroscope': <cereal.services.Service at 0x7fb7092fbb90>,\n",
       " 'gyroscope2': <cereal.services.Service at 0x7fb7092a8710>,\n",
       " 'accelerometer': <cereal.services.Service at 0x7fb70966e090>,\n",
       " 'accelerometer2': <cereal.services.Service at 0x7fb708209550>,\n",
       " 'magnetometer': <cereal.services.Service at 0x7fb708209590>,\n",
       " 'lightSensor': <cereal.services.Service at 0x7fb7082095d0>,\n",
       " 'temperatureSensor': <cereal.services.Service at 0x7fb708209610>,\n",
       " 'temperatureSensor2': <cereal.services.Service at 0x7fb708209650>,\n",
       " 'gpsNMEA': <cereal.services.Service at 0x7fb708209690>,\n",
       " 'deviceState': <cereal.services.Service at 0x7fb7082096d0>,\n",
       " 'can': <cereal.services.Service at 0x7fb708209710>,\n",
       " 'controlsState': <cereal.services.Service at 0x7fb708209750>,\n",
       " 'pandaStates': <cereal.services.Service at 0x7fb708209790>,\n",
       " 'peripheralState': <cereal.services.Service at 0x7fb7082097d0>,\n",
       " 'radarState': <cereal.services.Service at 0x7fb708209810>,\n",
       " 'roadEncodeIdx': <cereal.services.Service at 0x7fb708209850>,\n",
       " 'liveTracks': <cereal.services.Service at 0x7fb708209890>,\n",
       " 'sendcan': <cereal.services.Service at 0x7fb7082098d0>,\n",
       " 'logMessage': <cereal.services.Service at 0x7fb708209910>,\n",
       " 'errorLogMessage': <cereal.services.Service at 0x7fb708209950>,\n",
       " 'liveCalibration': <cereal.services.Service at 0x7fb708209990>,\n",
       " 'liveTorqueParameters': <cereal.services.Service at 0x7fb7082099d0>,\n",
       " 'androidLog': <cereal.services.Service at 0x7fb708209a10>,\n",
       " 'carState': <cereal.services.Service at 0x7fb708209a50>,\n",
       " 'carControl': <cereal.services.Service at 0x7fb708209ad0>,\n",
       " 'longitudinalPlan': <cereal.services.Service at 0x7fb708209b10>,\n",
       " 'procLog': <cereal.services.Service at 0x7fb708209b50>,\n",
       " 'gpsLocationExternal': <cereal.services.Service at 0x7fb708209b90>,\n",
       " 'gpsLocation': <cereal.services.Service at 0x7fb708209bd0>,\n",
       " 'ubloxGnss': <cereal.services.Service at 0x7fb708209c10>,\n",
       " 'qcomGnss': <cereal.services.Service at 0x7fb708209c50>,\n",
       " 'gnssMeasurements': <cereal.services.Service at 0x7fb708209c90>,\n",
       " 'clocks': <cereal.services.Service at 0x7fb708209cd0>,\n",
       " 'ubloxRaw': <cereal.services.Service at 0x7fb708209d10>,\n",
       " 'liveLocationKalman': <cereal.services.Service at 0x7fb708209d50>,\n",
       " 'liveParameters': <cereal.services.Service at 0x7fb708209d90>,\n",
       " 'cameraOdometry': <cereal.services.Service at 0x7fb708209dd0>,\n",
       " 'thumbnail': <cereal.services.Service at 0x7fb708209e10>,\n",
       " 'onroadEvents': <cereal.services.Service at 0x7fb708209e50>,\n",
       " 'carParams': <cereal.services.Service at 0x7fb708209e90>,\n",
       " 'roadCameraState': <cereal.services.Service at 0x7fb708209ed0>,\n",
       " 'driverCameraState': <cereal.services.Service at 0x7fb708209f10>,\n",
       " 'driverEncodeIdx': <cereal.services.Service at 0x7fb708209f50>,\n",
       " 'driverStateV2': <cereal.services.Service at 0x7fb708209f90>,\n",
       " 'driverMonitoringState': <cereal.services.Service at 0x7fb708209fd0>,\n",
       " 'wideRoadEncodeIdx': <cereal.services.Service at 0x7fb70820a010>,\n",
       " 'wideRoadCameraState': <cereal.services.Service at 0x7fb70820a050>,\n",
       " 'modelV2': <cereal.services.Service at 0x7fb70820a090>,\n",
       " 'managerState': <cereal.services.Service at 0x7fb70820a0d0>,\n",
       " 'uploaderState': <cereal.services.Service at 0x7fb70820a110>,\n",
       " 'navInstruction': <cereal.services.Service at 0x7fb70820a150>,\n",
       " 'navRoute': <cereal.services.Service at 0x7fb70820a190>,\n",
       " 'navThumbnail': <cereal.services.Service at 0x7fb70820a1d0>,\n",
       " 'navModel': <cereal.services.Service at 0x7fb70820a210>,\n",
       " 'mapRenderState': <cereal.services.Service at 0x7fb70820a250>,\n",
       " 'uiPlan': <cereal.services.Service at 0x7fb70820a290>,\n",
       " 'qRoadEncodeIdx': <cereal.services.Service at 0x7fb70820a2d0>,\n",
       " 'userFlag': <cereal.services.Service at 0x7fb70820a310>,\n",
       " 'microphone': <cereal.services.Service at 0x7fb70820a350>,\n",
       " 'uiDebug': <cereal.services.Service at 0x7fb70820a390>,\n",
       " 'testJoystick': <cereal.services.Service at 0x7fb70820a3d0>,\n",
       " 'roadEncodeData': <cereal.services.Service at 0x7fb70820a410>,\n",
       " 'driverEncodeData': <cereal.services.Service at 0x7fb70820a450>,\n",
       " 'wideRoadEncodeData': <cereal.services.Service at 0x7fb70820a490>,\n",
       " 'qRoadEncodeData': <cereal.services.Service at 0x7fb70820a4d0>,\n",
       " 'livestreamWideRoadEncodeIdx': <cereal.services.Service at 0x7fb70820a510>,\n",
       " 'livestreamRoadEncodeIdx': <cereal.services.Service at 0x7fb70820a550>,\n",
       " 'livestreamDriverEncodeIdx': <cereal.services.Service at 0x7fb70820a590>,\n",
       " 'livestreamWideRoadEncodeData': <cereal.services.Service at 0x7fb70820a5d0>,\n",
       " 'livestreamRoadEncodeData': <cereal.services.Service at 0x7fb70820a610>,\n",
       " 'livestreamDriverEncodeData': <cereal.services.Service at 0x7fb70820a650>,\n",
       " 'customReservedRawData0': <cereal.services.Service at 0x7fb70820a690>,\n",
       " 'customReservedRawData1': <cereal.services.Service at 0x7fb70820a6d0>,\n",
       " 'customReservedRawData2': <cereal.services.Service at 0x7fb70820a710>}"
      ]
     },
     "execution_count": 2,
     "metadata": {},
     "output_type": "execute_result"
    }
   ],
   "source": [
    "# Get all Services from Cereal\n",
    "messaging.SERVICE_LIST"
   ]
  },
  {
   "cell_type": "code",
   "execution_count": 23,
   "id": "a56ed1cd",
   "metadata": {},
   "outputs": [
    {
     "name": "stdout",
     "output_type": "stream",
     "text": [
      "( logMonoTime = 512097859113,\n",
      "  can = [\n",
      "    (address = 0, busTime = 0, src = 0) ],\n",
      "  valid = false )\n"
     ]
    }
   ],
   "source": [
    "print(messaging.new_message('can', 1))"
   ]
  },
  {
   "cell_type": "code",
   "execution_count": 20,
   "id": "7216727e",
   "metadata": {},
   "outputs": [
    {
     "name": "stdout",
     "output_type": "stream",
     "text": [
      "( logMonoTime = 503229402295,\n",
      "  controlsState = (\n",
      "    vEgoDEPRECATED = 0,\n",
      "    aEgoDEPRECATED = 0,\n",
      "    vPid = 0,\n",
      "    vTargetLead = 0,\n",
      "    upAccelCmd = 0,\n",
      "    uiAccelCmd = 0,\n",
      "    yActualDEPRECATED = 0,\n",
      "    yDesDEPRECATED = 0,\n",
      "    upSteerDEPRECATED = 0,\n",
      "    uiSteerDEPRECATED = 0,\n",
      "    aTargetMinDEPRECATED = 0,\n",
      "    aTargetMaxDEPRECATED = 0,\n",
      "    jerkFactorDEPRECATED = 0,\n",
      "    angleSteersDEPRECATED = 0,\n",
      "    hudLeadDEPRECATED = 0,\n",
      "    cumLagMs = 0,\n",
      "    canMonoTimeDEPRECATED = 0,\n",
      "    radarStateMonoTimeDEPRECATED = 0,\n",
      "    mdMonoTimeDEPRECATED = 0,\n",
      "    enabled = false,\n",
      "    steerOverrideDEPRECATED = false,\n",
      "    vCruise = 0,\n",
      "    rearViewCamDEPRECATED = false,\n",
      "    awarenessStatusDEPRECATED = 0,\n",
      "    angleModelBiasDEPRECATED = 0,\n",
      "    longitudinalPlanMonoTime = 0,\n",
      "    steeringAngleDesiredDegDEPRECATED = 0,\n",
      "    longControlState = off,\n",
      "    state = disabled,\n",
      "    vEgoRawDEPRECATED = 0,\n",
      "    ufAccelCmd = 0,\n",
      "    ufSteerDEPRECATED = 0,\n",
      "    aTarget = 0,\n",
      "    active = false,\n",
      "    curvature = 0,\n",
      "    alertStatus = normal,\n",
      "    alertSize = none,\n",
      "    gpsPlannerActiveDEPRECATED = false,\n",
      "    engageable = false,\n",
      "    alertBlinkingRate = 0,\n",
      "    driverMonitoringOnDEPRECATED = false,\n",
      "    vCurvatureDEPRECATED = 0,\n",
      "    decelForTurnDEPRECATED = false,\n",
      "    startMonoTime = 0,\n",
      "    mapValidDEPRECATED = false,\n",
      "    lateralPlanMonoTime = 0,\n",
      "    forceDecel = false,\n",
      "    lateralControlState = (),\n",
      "    decelForModelDEPRECATED = false,\n",
      "    alertSound = none,\n",
      "    canErrorCounter = 0,\n",
      "    desiredCurvature = 0,\n",
      "    desiredCurvatureRateDEPRECATED = 0,\n",
      "    vCruiseCluster = 0,\n",
      "    experimentalMode = false ),\n",
      "  valid = false )\n"
     ]
    }
   ],
   "source": [
    "print(messaging.new_message('controlsState'))"
   ]
  },
  {
   "cell_type": "code",
   "execution_count": 17,
   "id": "05971166",
   "metadata": {},
   "outputs": [
    {
     "name": "stdout",
     "output_type": "stream",
     "text": [
      "( logMonoTime = 473613459567,\n",
      "  valid = false,\n",
      "  pandaStates = [\n",
      "    ( voltage = 0,\n",
      "      current = 0,\n",
      "      ignitionLine = false,\n",
      "      controlsAllowed = false,\n",
      "      gasInterceptorDetectedDEPRECATED = false,\n",
      "      startedSignalDetectedDEPRECATED = false,\n",
      "      hasGpsDEPRECATED = false,\n",
      "      rxBufferOverflow = 0,\n",
      "      txBufferOverflow = 0,\n",
      "      gmlanSendErrs = 0,\n",
      "      pandaType = unknown,\n",
      "      fanSpeedRpmDEPRECATED = 0,\n",
      "      usbPowerModeDEPRECATED = none,\n",
      "      ignitionCan = false,\n",
      "      safetyModel = silent,\n",
      "      faultStatus = none,\n",
      "      powerSaveEnabled = false,\n",
      "      uptime = 0,\n",
      "      safetyRxInvalid = 0,\n",
      "      safetyParamDEPRECATED = 0,\n",
      "      harnessStatus = notConnected,\n",
      "      heartbeatLost = false,\n",
      "      alternativeExperience = 0,\n",
      "      safetyTxBlocked = 0,\n",
      "      interruptLoad = 0,\n",
      "      safetyParam2DEPRECATED = 0,\n",
      "      safetyParam = 0,\n",
      "      fanPower = 0,\n",
      "      safetyRxChecksInvalid = false,\n",
      "      spiChecksumErrorCount = 0,\n",
      "      fanStallCount = 0,\n",
      "      sbu1Voltage = 0,\n",
      "      sbu2Voltage = 0 ) ] )\n"
     ]
    }
   ],
   "source": [
    "print(messaging.new_message('pandaStates', 1))"
   ]
  },
  {
   "cell_type": "code",
   "execution_count": 18,
   "id": "38c2246a",
   "metadata": {},
   "outputs": [
    {
     "name": "stdout",
     "output_type": "stream",
     "text": [
      "( logMonoTime = 485387774969,\n",
      "  sendcan = [\n",
      "    (address = 0, busTime = 0, src = 0) ],\n",
      "  valid = false )\n"
     ]
    }
   ],
   "source": [
    "print(messaging.new_message('sendcan', 1))"
   ]
  },
  {
   "cell_type": "code",
   "execution_count": 3,
   "id": "8f4a7b70-f9f9-4e1e-bd3c-5ba4655c0608",
   "metadata": {},
   "outputs": [
    {
     "name": "stdout",
     "output_type": "stream",
     "text": [
      "( logMonoTime = 822267057054,\n",
      "  roadCameraState = (\n",
      "    frameId = 0,\n",
      "    encodeId = 0,\n",
      "    timestampEof = 0,\n",
      "    frameLengthDEPRECATED = 0,\n",
      "    integLines = 0,\n",
      "    globalGainDEPRECATED = 0,\n",
      "    frameType = unknown,\n",
      "    timestampSof = 0,\n",
      "    lensPosDEPRECATED = 0,\n",
      "    lensSagDEPRECATED = 0,\n",
      "    lensErrDEPRECATED = 0,\n",
      "    lensTruePosDEPRECATED = 0,\n",
      "    gain = 0,\n",
      "    recoverStateDEPRECATED = 0,\n",
      "    highConversionGain = false,\n",
      "    measuredGreyFraction = 0,\n",
      "    targetGreyFraction = 0,\n",
      "    processingTime = 0,\n",
      "    frameIdSensor = 0,\n",
      "    sensor = unknown,\n",
      "    exposureValPercent = 0,\n",
      "    requestId = 0 ),\n",
      "  valid = false )\n"
     ]
    }
   ],
   "source": [
    "# Create Message for the roadCamera\n",
    "dat = messaging.new_message('roadCameraState')\n",
    "print(dat)"
   ]
  },
  {
   "cell_type": "code",
   "execution_count": 4,
   "id": "0aee9b9f-2fbb-4cf5-8967-5f3ad6e70f97",
   "metadata": {},
   "outputs": [
    {
     "name": "stdout",
     "output_type": "stream",
     "text": [
      "( frameId = 0,\n",
      "  encodeId = 0,\n",
      "  timestampEof = 0,\n",
      "  frameLengthDEPRECATED = 0,\n",
      "  integLines = 0,\n",
      "  globalGainDEPRECATED = 0,\n",
      "  frameType = unknown,\n",
      "  timestampSof = 0,\n",
      "  lensPosDEPRECATED = 0,\n",
      "  lensSagDEPRECATED = 0,\n",
      "  lensErrDEPRECATED = 0,\n",
      "  lensTruePosDEPRECATED = 0,\n",
      "  gain = 0,\n",
      "  recoverStateDEPRECATED = 0,\n",
      "  highConversionGain = false,\n",
      "  measuredGreyFraction = 0,\n",
      "  targetGreyFraction = 0,\n",
      "  processingTime = 0,\n",
      "  frameIdSensor = 0,\n",
      "  sensor = unknown,\n",
      "  exposureValPercent = 0,\n",
      "  requestId = 0 )\n"
     ]
    }
   ],
   "source": [
    "print(dat.roadCameraState)"
   ]
  },
  {
   "cell_type": "code",
   "execution_count": 26,
   "id": "65297933-c897-4efe-bb36-27ff25417df9",
   "metadata": {},
   "outputs": [],
   "source": [
    "# PROBLEM!!!!\n",
    "# NO SERVICE FRAME ANYMORE. THEY MUST HAVE RENAMED IT\n",
    "# FIND IMAGE ATTRIBUTE\n",
    "#dat = messaging.new_message('frame')\n",
    "#dat"
   ]
  }
 ],
 "metadata": {
  "kernelspec": {
   "display_name": "Python 3 (ipykernel)",
   "language": "python",
   "name": "python3"
  },
  "language_info": {
   "codemirror_mode": {
    "name": "ipython",
    "version": 3
   },
   "file_extension": ".py",
   "mimetype": "text/x-python",
   "name": "python",
   "nbconvert_exporter": "python",
   "pygments_lexer": "ipython3",
   "version": "3.11.4"
  }
 },
 "nbformat": 4,
 "nbformat_minor": 5
}

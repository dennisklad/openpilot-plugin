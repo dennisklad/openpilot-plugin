{
 "cells": [
  {
   "cell_type": "code",
   "execution_count": 18,
   "id": "5ab3af8e-3926-47f8-bbfa-d585bf50ec69",
   "metadata": {},
   "outputs": [
    {
     "name": "stdout",
     "output_type": "stream",
     "text": [
      "<class 'str'>\n"
     ]
    }
   ],
   "source": [
    "from mss import mss\n",
    "\n",
    "with mss() as sct:\n",
    "\n",
    "    a = sct.shot()\n",
    "\n",
    "    print(type(a))"
   ]
  },
  {
   "cell_type": "code",
   "execution_count": 20,
   "id": "d3cdd54c-bc37-447d-b1f6-0c984ba5033f",
   "metadata": {},
   "outputs": [],
   "source": [
    "from PIL import Image\n",
    "im = Image.open(a)\n",
    "im.show()"
   ]
  },
  {
   "cell_type": "code",
   "execution_count": 3,
   "id": "48f32bd0-13a9-4c5c-b39c-7c13fb6086fb",
   "metadata": {},
   "outputs": [
    {
     "name": "stdout",
     "output_type": "stream",
     "text": [
      "bridge\t\t\t    __init__.py\t\t README.md\n",
      "build_container.sh\t    launch_openpilot.sh  rgb_to_nv12.cl\n",
      "capnproto-c++-1.0.2\t    lib\t\t\t run_bridge.py\n",
      "capnproto-c++-1.0.2.tar.gz  monitor-1.png\t start_openpilot_docker.sh\n",
      "Dockerfile.sim\t\t    Prototype.ipynb\t tests\n",
      "Dockerfile.sim_nvidia\t    __pycache__\n"
     ]
    }
   ],
   "source": [
    "!ls"
   ]
  },
  {
   "cell_type": "code",
   "execution_count": 1,
   "id": "95455d64-7941-470c-a957-d20b881861f0",
   "metadata": {},
   "outputs": [
    {
     "name": "stderr",
     "output_type": "stream",
     "text": [
      "kj/filesystem-disk-unix.c++:1703: warning: PWD environment variable doesn't match current directory; pwd = /home/n\n"
     ]
    }
   ],
   "source": [
    "import cereal.messaging as messaging"
   ]
  },
  {
   "cell_type": "markdown",
   "id": "73b7f787-9d8f-4163-bc4a-32c9fca679d3",
   "metadata": {},
   "source": [
    "## Example Code"
   ]
  },
  {
   "cell_type": "code",
   "execution_count": 5,
   "id": "0907c34f-0334-461c-8ef5-ef6d4ce58d40",
   "metadata": {},
   "outputs": [
    {
     "name": "stdout",
     "output_type": "stream",
     "text": [
      "Warning, sensorEvents is not in service list.\n"
     ]
    },
    {
     "ename": "KeyError",
     "evalue": "'sensorEvents'",
     "output_type": "error",
     "traceback": [
      "\u001b[0;31m---------------------------------------------------------------------------\u001b[0m",
      "\u001b[0;31mKeyError\u001b[0m                                  Traceback (most recent call last)",
      "Cell \u001b[0;32mIn[5], line 2\u001b[0m\n\u001b[1;32m      1\u001b[0m \u001b[38;5;66;03m# in subscriber\u001b[39;00m\n\u001b[0;32m----> 2\u001b[0m sm \u001b[38;5;241m=\u001b[39m \u001b[43mmessaging\u001b[49m\u001b[38;5;241;43m.\u001b[39;49m\u001b[43mSubMaster\u001b[49m\u001b[43m(\u001b[49m\u001b[43m[\u001b[49m\u001b[38;5;124;43m'\u001b[39;49m\u001b[38;5;124;43msensorEvents\u001b[39;49m\u001b[38;5;124;43m'\u001b[39;49m\u001b[43m]\u001b[49m\u001b[43m)\u001b[49m\n\u001b[1;32m      3\u001b[0m \u001b[38;5;28;01mwhile\u001b[39;00m \u001b[38;5;241m1\u001b[39m:\n\u001b[1;32m      4\u001b[0m   sm\u001b[38;5;241m.\u001b[39mupdate()\n",
      "File \u001b[0;32m~/Masterarbeit/openpilot-plugin/cereal/messaging/__init__.py:187\u001b[0m, in \u001b[0;36mSubMaster.__init__\u001b[0;34m(self, services, poll, ignore_alive, ignore_avg_freq, ignore_valid, addr)\u001b[0m\n\u001b[1;32m    185\u001b[0m   p \u001b[38;5;241m=\u001b[39m \u001b[38;5;28mself\u001b[39m\u001b[38;5;241m.\u001b[39mpoller \u001b[38;5;28;01mif\u001b[39;00m s \u001b[38;5;129;01mnot\u001b[39;00m \u001b[38;5;129;01min\u001b[39;00m \u001b[38;5;28mself\u001b[39m\u001b[38;5;241m.\u001b[39mnon_polled_services \u001b[38;5;28;01melse\u001b[39;00m \u001b[38;5;28;01mNone\u001b[39;00m\n\u001b[1;32m    186\u001b[0m   \u001b[38;5;28mself\u001b[39m\u001b[38;5;241m.\u001b[39msock[s] \u001b[38;5;241m=\u001b[39m sub_sock(s, poller\u001b[38;5;241m=\u001b[39mp, addr\u001b[38;5;241m=\u001b[39maddr, conflate\u001b[38;5;241m=\u001b[39m\u001b[38;5;28;01mTrue\u001b[39;00m)\n\u001b[0;32m--> 187\u001b[0m \u001b[38;5;28mself\u001b[39m\u001b[38;5;241m.\u001b[39mfreq[s] \u001b[38;5;241m=\u001b[39m \u001b[43mSERVICE_LIST\u001b[49m\u001b[43m[\u001b[49m\u001b[43ms\u001b[49m\u001b[43m]\u001b[49m\u001b[38;5;241m.\u001b[39mfrequency\n\u001b[1;32m    189\u001b[0m \u001b[38;5;28;01mtry\u001b[39;00m:\n\u001b[1;32m    190\u001b[0m   data \u001b[38;5;241m=\u001b[39m new_message(s)\n",
      "\u001b[0;31mKeyError\u001b[0m: 'sensorEvents'"
     ]
    }
   ],
   "source": [
    "# in subscriber\n",
    "sm = messaging.SubMaster(['sensorEvents'])\n",
    "while 1:\n",
    "  sm.update()\n",
    "  print(sm['sensorEvents'])\n"
   ]
  },
  {
   "cell_type": "code",
   "execution_count": 6,
   "id": "7b5a58f0-204b-4896-8b77-72615c38ea53",
   "metadata": {},
   "outputs": [
    {
     "name": "stdout",
     "output_type": "stream",
     "text": [
      "Warning, sensorEvents is not in service list.\n"
     ]
    },
    {
     "ename": "KjException",
     "evalue": "capnp/schema.c++:498: failed: struct has no such member; name = sensorEvents\nstack: 7fa46142645d 7fa461446189 7fa46131942b 7fa46128a91b 7fa476c307c2 7fa476bdbc56 7fa476b7d6cd 7fa476ce82f4 7fa476ce405f 7fa476b7d498 7fa476bf4fa4 7fa476bc2fb4 7fa476b84500 7fa476bf4fa4 7fa476bc2fb4 7fa476b84500 7fa476bf5fe4 7fa476b7cdf3 7fa476ce8468 7fa476bdeddf 7fa476bdba43 7fa476b7c857 7fa476bf4fa4 7fa476bc2fb4 7fa476b84500 7fa476bf4fa4 7fa476bc2fb4 7fa476b84500 7fa476bf4fa4 7fa476bc2fb4 7fa476b84500",
     "output_type": "error",
     "traceback": [
      "\u001b[0;31m---------------------------------------------------------------------------\u001b[0m",
      "\u001b[0;31mKjException\u001b[0m                               Traceback (most recent call last)",
      "Cell \u001b[0;32mIn[6], line 3\u001b[0m\n\u001b[1;32m      1\u001b[0m \u001b[38;5;66;03m# in publisher\u001b[39;00m\n\u001b[1;32m      2\u001b[0m pm \u001b[38;5;241m=\u001b[39m messaging\u001b[38;5;241m.\u001b[39mPubMaster([\u001b[38;5;124m'\u001b[39m\u001b[38;5;124msensorEvents\u001b[39m\u001b[38;5;124m'\u001b[39m])\n\u001b[0;32m----> 3\u001b[0m dat \u001b[38;5;241m=\u001b[39m \u001b[43mmessaging\u001b[49m\u001b[38;5;241;43m.\u001b[39;49m\u001b[43mnew_message\u001b[49m\u001b[43m(\u001b[49m\u001b[38;5;124;43m'\u001b[39;49m\u001b[38;5;124;43msensorEvents\u001b[39;49m\u001b[38;5;124;43m'\u001b[39;49m\u001b[43m,\u001b[49m\u001b[43m \u001b[49m\u001b[43msize\u001b[49m\u001b[38;5;241;43m=\u001b[39;49m\u001b[38;5;241;43m1\u001b[39;49m\u001b[43m)\u001b[49m\n\u001b[1;32m      4\u001b[0m dat\u001b[38;5;241m.\u001b[39msensorEvents[\u001b[38;5;241m0\u001b[39m] \u001b[38;5;241m=\u001b[39m {\u001b[38;5;124m\"\u001b[39m\u001b[38;5;124mgyro\u001b[39m\u001b[38;5;124m\"\u001b[39m: {\u001b[38;5;124m\"\u001b[39m\u001b[38;5;124mv\u001b[39m\u001b[38;5;124m\"\u001b[39m: [\u001b[38;5;241m0.1\u001b[39m, \u001b[38;5;241m-\u001b[39m\u001b[38;5;241m0.1\u001b[39m, \u001b[38;5;241m0.1\u001b[39m]}}\n\u001b[1;32m      5\u001b[0m pm\u001b[38;5;241m.\u001b[39msend(\u001b[38;5;124m'\u001b[39m\u001b[38;5;124msensorEvents\u001b[39m\u001b[38;5;124m'\u001b[39m, dat)\n",
      "File \u001b[0;32m~/Masterarbeit/openpilot-plugin/cereal/messaging/__init__.py:55\u001b[0m, in \u001b[0;36mnew_message\u001b[0;34m(service, size, **kwargs)\u001b[0m\n\u001b[1;32m     53\u001b[0m     dat\u001b[38;5;241m.\u001b[39minit(service)\n\u001b[1;32m     54\u001b[0m   \u001b[38;5;28;01melse\u001b[39;00m:\n\u001b[0;32m---> 55\u001b[0m     \u001b[43mdat\u001b[49m\u001b[38;5;241;43m.\u001b[39;49m\u001b[43minit\u001b[49m\u001b[43m(\u001b[49m\u001b[43mservice\u001b[49m\u001b[43m,\u001b[49m\u001b[43m \u001b[49m\u001b[43msize\u001b[49m\u001b[43m)\u001b[49m\n\u001b[1;32m     56\u001b[0m \u001b[38;5;28;01mreturn\u001b[39;00m dat\n",
      "File \u001b[0;32m~/.cache/pypoetry/virtualenvs/openpilot-H4-XzpK6-py3.11/lib/python3.11/site-packages/capnp/lib/capnp.pyx:1387\u001b[0m, in \u001b[0;36mcapnp.lib.capnp._DynamicStructBuilder.init\u001b[0;34m()\u001b[0m\n",
      "File \u001b[0;32m~/.cache/pypoetry/virtualenvs/openpilot-H4-XzpK6-py3.11/lib/python3.11/site-packages/capnp/lib/capnp.pyx:1407\u001b[0m, in \u001b[0;36mcapnp.lib.capnp._DynamicStructBuilder.init\u001b[0;34m()\u001b[0m\n",
      "\u001b[0;31mKjException\u001b[0m: capnp/schema.c++:498: failed: struct has no such member; name = sensorEvents\nstack: 7fa46142645d 7fa461446189 7fa46131942b 7fa46128a91b 7fa476c307c2 7fa476bdbc56 7fa476b7d6cd 7fa476ce82f4 7fa476ce405f 7fa476b7d498 7fa476bf4fa4 7fa476bc2fb4 7fa476b84500 7fa476bf4fa4 7fa476bc2fb4 7fa476b84500 7fa476bf5fe4 7fa476b7cdf3 7fa476ce8468 7fa476bdeddf 7fa476bdba43 7fa476b7c857 7fa476bf4fa4 7fa476bc2fb4 7fa476b84500 7fa476bf4fa4 7fa476bc2fb4 7fa476b84500 7fa476bf4fa4 7fa476bc2fb4 7fa476b84500"
     ]
    }
   ],
   "source": [
    "# in publisher\n",
    "pm = messaging.PubMaster(['sensorEvents'])\n",
    "dat = messaging.new_message('sensorEvents', size=1)\n",
    "dat.sensorEvents[0] = {\"gyro\": {\"v\": [0.1, -0.1, 0.1]}}\n",
    "pm.send('sensorEvents', dat)\n"
   ]
  },
  {
   "cell_type": "markdown",
   "id": "27f90972-f2ab-4094-8515-d966c2626c52",
   "metadata": {},
   "source": [
    "## Testing stuff"
   ]
  },
  {
   "cell_type": "code",
   "execution_count": 19,
   "id": "8f4a7b70-f9f9-4e1e-bd3c-5ba4655c0608",
   "metadata": {},
   "outputs": [
    {
     "name": "stdout",
     "output_type": "stream",
     "text": [
      "( logMonoTime = 494287204717,\n",
      "  roadCameraState = (\n",
      "    frameId = 0,\n",
      "    encodeId = 0,\n",
      "    timestampEof = 0,\n",
      "    frameLengthDEPRECATED = 0,\n",
      "    integLines = 0,\n",
      "    globalGainDEPRECATED = 0,\n",
      "    frameType = unknown,\n",
      "    timestampSof = 0,\n",
      "    lensPosDEPRECATED = 0,\n",
      "    lensSagDEPRECATED = 0,\n",
      "    lensErrDEPRECATED = 0,\n",
      "    lensTruePosDEPRECATED = 0,\n",
      "    gain = 0,\n",
      "    recoverStateDEPRECATED = 0,\n",
      "    highConversionGain = false,\n",
      "    measuredGreyFraction = 0,\n",
      "    targetGreyFraction = 0,\n",
      "    processingTime = 0,\n",
      "    frameIdSensor = 0,\n",
      "    sensor = unknown,\n",
      "    exposureValPercent = 0,\n",
      "    requestId = 0 ),\n",
      "  valid = false )\n"
     ]
    }
   ],
   "source": [
    "# Create Message for the roadCamera\n",
    "dat = messaging.new_message('roadCameraState')\n",
    "print(dat)"
   ]
  },
  {
   "cell_type": "code",
   "execution_count": 25,
   "id": "0aee9b9f-2fbb-4cf5-8967-5f3ad6e70f97",
   "metadata": {},
   "outputs": [
    {
     "data": {
      "text/plain": [
       "<log.capnp:FrameData builder (frameId = 0, encodeId = 0, timestampEof = 0, frameLengthDEPRECATED = 0, integLines = 0, globalGainDEPRECATED = 0, frameType = unknown, timestampSof = 0, lensPosDEPRECATED = 0, lensSagDEPRECATED = 0, lensErrDEPRECATED = 0, lensTruePosDEPRECATED = 0, gain = 0, recoverStateDEPRECATED = 0, highConversionGain = false, measuredGreyFraction = 0, targetGreyFraction = 0, processingTime = 0, frameIdSensor = 0, sensor = unknown, exposureValPercent = 0, requestId = 0)>"
      ]
     },
     "execution_count": 25,
     "metadata": {},
     "output_type": "execute_result"
    }
   ],
   "source": [
    "dat.roadCameraState"
   ]
  },
  {
   "cell_type": "code",
   "execution_count": 11,
   "id": "02c1bba1-48c5-4c87-8b3c-cd9b227028d9",
   "metadata": {},
   "outputs": [],
   "source": [
    "frame_id=0\n",
    "\n",
    "def send_image(image):\n",
    "    global frame_id\n",
    "    dat = messaging.new_message('roadCameraState')\n",
    "    dat.roadCameraState = {\n",
    "        \"image\": image.tobytes(),\n",
    "        \"transform\": [1.0, 0.0, 0.0, 0.0, 1.0, 0.0, 0.0, 0.0, 1.0]\n",
    "    }\n",
    "    pm.send('roadCameraState', dat)\n",
    "    frame_id += 1"
   ]
  },
  {
   "cell_type": "code",
   "execution_count": 26,
   "id": "a1311ab4-c380-4426-a074-2008daa544cb",
   "metadata": {},
   "outputs": [
    {
     "ename": "Exception",
     "evalue": "failed to connect to panda",
     "output_type": "error",
     "traceback": [
      "\u001b[0;31m---------------------------------------------------------------------------\u001b[0m",
      "\u001b[0;31mException\u001b[0m                                 Traceback (most recent call last)",
      "Cell \u001b[0;32mIn[26], line 2\u001b[0m\n\u001b[1;32m      1\u001b[0m \u001b[38;5;28;01mfrom\u001b[39;00m \u001b[38;5;21;01mpanda\u001b[39;00m \u001b[38;5;28;01mimport\u001b[39;00m Panda\n\u001b[0;32m----> 2\u001b[0m panda \u001b[38;5;241m=\u001b[39m \u001b[43mPanda\u001b[49m\u001b[43m(\u001b[49m\u001b[43m)\u001b[49m\n\u001b[1;32m      3\u001b[0m panda\u001b[38;5;241m.\u001b[39mcan_recv()\n\u001b[1;32m      5\u001b[0m \u001b[38;5;66;03m# NO PANDAS CONNECTION\u001b[39;00m\n",
      "File \u001b[0;32m~/Masterarbeit/openpilot-plugin/panda/python/__init__.py:244\u001b[0m, in \u001b[0;36mPanda.__init__\u001b[0;34m(self, serial, claim, disable_checks)\u001b[0m\n\u001b[1;32m    241\u001b[0m \u001b[38;5;28mself\u001b[39m\u001b[38;5;241m.\u001b[39mcan_rx_overflow_buffer \u001b[38;5;241m=\u001b[39m \u001b[38;5;124mb\u001b[39m\u001b[38;5;124m'\u001b[39m\u001b[38;5;124m'\u001b[39m\n\u001b[1;32m    243\u001b[0m \u001b[38;5;66;03m# connect and set mcu type\u001b[39;00m\n\u001b[0;32m--> 244\u001b[0m \u001b[38;5;28;43mself\u001b[39;49m\u001b[38;5;241;43m.\u001b[39;49m\u001b[43mconnect\u001b[49m\u001b[43m(\u001b[49m\u001b[43mclaim\u001b[49m\u001b[43m)\u001b[49m\n\u001b[1;32m    246\u001b[0m \u001b[38;5;66;03m# reset comms\u001b[39;00m\n\u001b[1;32m    247\u001b[0m \u001b[38;5;28mself\u001b[39m\u001b[38;5;241m.\u001b[39mcan_reset_communications()\n",
      "File \u001b[0;32m~/Masterarbeit/openpilot-plugin/panda/python/__init__.py:275\u001b[0m, in \u001b[0;36mPanda.connect\u001b[0;34m(self, claim, wait)\u001b[0m\n\u001b[1;32m    272\u001b[0m     \u001b[38;5;28;01mbreak\u001b[39;00m\n\u001b[1;32m    274\u001b[0m \u001b[38;5;28;01mif\u001b[39;00m \u001b[38;5;28mself\u001b[39m\u001b[38;5;241m.\u001b[39m_handle \u001b[38;5;129;01mis\u001b[39;00m \u001b[38;5;28;01mNone\u001b[39;00m:\n\u001b[0;32m--> 275\u001b[0m   \u001b[38;5;28;01mraise\u001b[39;00m \u001b[38;5;167;01mException\u001b[39;00m(\u001b[38;5;124m\"\u001b[39m\u001b[38;5;124mfailed to connect to panda\u001b[39m\u001b[38;5;124m\"\u001b[39m)\n\u001b[1;32m    277\u001b[0m \u001b[38;5;66;03m# Some fallback logic to determine panda and MCU type for old bootstubs,\u001b[39;00m\n\u001b[1;32m    278\u001b[0m \u001b[38;5;66;03m# since we now support multiple MCUs and need to know which fw to flash.\u001b[39;00m\n\u001b[1;32m    279\u001b[0m \u001b[38;5;66;03m# Three cases to consider:\u001b[39;00m\n\u001b[0;32m   (...)\u001b[0m\n\u001b[1;32m    283\u001b[0m \u001b[38;5;66;03m#    have the panda type set in the USB bcdDevice\u001b[39;00m\n\u001b[1;32m    284\u001b[0m \u001b[38;5;66;03m# C) latest bootstubs also implement the endpoint for panda type\u001b[39;00m\n\u001b[1;32m    285\u001b[0m \u001b[38;5;28mself\u001b[39m\u001b[38;5;241m.\u001b[39m_bcd_hw_type \u001b[38;5;241m=\u001b[39m \u001b[38;5;28;01mNone\u001b[39;00m\n",
      "\u001b[0;31mException\u001b[0m: failed to connect to panda"
     ]
    }
   ],
   "source": [
    "from panda import Panda\n",
    "panda = Panda()\n",
    "panda.can_recv()\n",
    "\n",
    "# NO PANDAS CONNECTION"
   ]
  },
  {
   "cell_type": "code",
   "execution_count": 14,
   "id": "68ee5329",
   "metadata": {},
   "outputs": [
    {
     "data": {
      "text/plain": [
       "<openpilot.tools.sim.lib.simulated_car.SimulatedCar at 0x7fa44e63fa50>"
      ]
     },
     "execution_count": 14,
     "metadata": {},
     "output_type": "execute_result"
    }
   ],
   "source": [
    "from openpilot.tools.sim.lib.simulated_car import SimulatedCar\n",
    "\n",
    "simulated_car = SimulatedCar()\n",
    "simulated_car"
   ]
  },
  {
   "cell_type": "markdown",
   "id": "a8fa37c5",
   "metadata": {},
   "source": [
    "The simulated car contains:\n",
    "- self.pm = messaging.PubMaster(['can', 'pandaStates'])\n",
    "- self.sm = messaging.SubMaster(['carControl', 'controlsState', 'carParams'])"
   ]
  },
  {
   "cell_type": "code",
   "execution_count": 16,
   "id": "1b07a965",
   "metadata": {},
   "outputs": [],
   "source": [
    "simulated_car.sm.update(0) \n",
    "\n",
    "# simulated_car.send_panda_state()"
   ]
  },
  {
   "cell_type": "code",
   "execution_count": null,
   "id": "d08f9ac0",
   "metadata": {},
   "outputs": [],
   "source": [
    "simulator_state"
   ]
  },
  {
   "cell_type": "code",
   "execution_count": 2,
   "id": "fa76d112",
   "metadata": {},
   "outputs": [
    {
     "name": "stdout",
     "output_type": "stream",
     "text": [
      "1928 1208\n"
     ]
    }
   ],
   "source": [
    "from openpilot.tools.sim.lib.camerad import W, H\n",
    "print(W, H)\n",
    "\n",
    "# Call reshape((H, W, 3)) for the image!"
   ]
  },
  {
   "cell_type": "code",
   "execution_count": null,
   "id": "b51cc08f",
   "metadata": {},
   "outputs": [],
   "source": []
  }
 ],
 "metadata": {
  "kernelspec": {
   "display_name": "Python 3 (ipykernel)",
   "language": "python",
   "name": "python3"
  },
  "language_info": {
   "codemirror_mode": {
    "name": "ipython",
    "version": 3
   },
   "file_extension": ".py",
   "mimetype": "text/x-python",
   "name": "python",
   "nbconvert_exporter": "python",
   "pygments_lexer": "ipython3",
   "version": "3.11.4"
  }
 },
 "nbformat": 4,
 "nbformat_minor": 5
}
